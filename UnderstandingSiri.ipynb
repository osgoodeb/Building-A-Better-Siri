{
  "cells": [
    {
      "cell_type": "markdown",
      "metadata": {
        "id": "view-in-github",
        "colab_type": "text"
      },
      "source": [
        "<a href=\"https://colab.research.google.com/github/osgoodeb/Understanding-Siri/blob/main/UnderstandingSiri.ipynb\" target=\"_parent\"><img src=\"https://colab.research.google.com/assets/colab-badge.svg\" alt=\"Open In Colab\"/></a>"
      ]
    },
    {
      "cell_type": "code",
      "execution_count": null,
      "metadata": {
        "colab": {
          "base_uri": "https://localhost:8080/",
          "height": 1000,
          "referenced_widgets": [
            "7833891e07ce472c91cb866342d1b029",
            "15311eec97aa4ada8421973cf0022915",
            "ab961373f7de4356abe7aef70e198496",
            "1876d5431f204b27862bd0d0a1e1011b",
            "f5bf107399af4f049a32515a3f416532",
            "78e5936e524842ab83a515b8d355f1c8",
            "f420028057f24a43b01cbe8edf5fb83d",
            "51e7d262319446548c3c660081ef9aad",
            "cceca73fe8a2434486a3c8e8c324d404",
            "f61415db882c4e6e8bfc9d2c05d1adb6",
            "3dd4b594b36047fa813eba73245ff93f",
            "459cdec213ad4084a53a337c677f3dc1",
            "43070c914c3044269dd5cdaa045c600e",
            "2fb68314c78f4b32940558eee49bf659",
            "cb1d0164febf42c3bad76d446de4b953",
            "90baa635a9764767a983f3bf58f45cdd",
            "bbcadfae97c64a1c9dd4aafac7222448",
            "f4e6dea9482248cb86f49ab42ed9e18f",
            "c82724661a13416b94ba23a15e384b07",
            "a350319c394a4edfb320817cd9540568",
            "a0b010ff6d5c44f380a49f94b840b077",
            "600629a261d44082acf9c5c11c36066d",
            "165ef0b867cb49aeb75fe280fd38cfa8",
            "2f71488d025a4b659b562d01c155de69",
            "f15e01203a12445eb30eb5d0ea2db4a9",
            "82b4fb0ed24d413bb4adc2acf686d5e3",
            "bd2148bb4f574d56a4f3f769ab59185b",
            "64bfee412ac74224a4f3e513fca28692",
            "9f0cbfb617c3416da8cbd93518ad2211",
            "b1dad5ca084a4052884dd9e4034015d8",
            "ff0ee49b4a064b26a2831bff2200ac1a",
            "eed5367a5e074410ba413678ffa89e86",
            "3761d577e5ce4078a38ed9118cd77773",
            "882afb89cf784802ab8dee9aac9a9b4e",
            "2677a4111027405cb2e2d68457d23071",
            "b9d110d8ee3e477fb6786cc15821e4d3",
            "0201d46101184a9785d20dc838a0f64a",
            "973d434cce78439f87897763e6aeb2d2",
            "8d3f379a2fe541bd98e2771b35417a51",
            "2e531070482647579f2885f4e21267c6",
            "dbfc63a80a56450ab5fb398ca854b2e2",
            "bf4079e5ea7c43b3984c74d3d0b2d199",
            "98e52498cd564177ab046889726487f7",
            "9e550e8ae1054aefbb4d4ea96f4eb5c4"
          ]
        },
        "id": "IGoMnG4dsXXi",
        "outputId": "a36075d4-f359-4543-bc78-fc8be1a79fe9"
      },
      "outputs": [
        {
          "output_type": "stream",
          "name": "stdout",
          "text": [
            "\u001b[K     |████████████████████████████████| 4.4 MB 8.1 MB/s \n",
            "\u001b[K     |████████████████████████████████| 6.6 MB 15.4 MB/s \n",
            "\u001b[K     |████████████████████████████████| 101 kB 4.2 MB/s \n",
            "\u001b[K     |████████████████████████████████| 596 kB 51.6 MB/s \n",
            "\u001b[?25h"
          ]
        },
        {
          "output_type": "display_data",
          "data": {
            "text/plain": [
              "Downloading:   0%|          | 0.00/208k [00:00<?, ?B/s]"
            ],
            "application/vnd.jupyter.widget-view+json": {
              "version_major": 2,
              "version_minor": 0,
              "model_id": "7833891e07ce472c91cb866342d1b029"
            }
          },
          "metadata": {}
        },
        {
          "output_type": "display_data",
          "data": {
            "text/plain": [
              "Downloading:   0%|          | 0.00/29.0 [00:00<?, ?B/s]"
            ],
            "application/vnd.jupyter.widget-view+json": {
              "version_major": 2,
              "version_minor": 0,
              "model_id": "459cdec213ad4084a53a337c677f3dc1"
            }
          },
          "metadata": {}
        },
        {
          "output_type": "display_data",
          "data": {
            "text/plain": [
              "Downloading:   0%|          | 0.00/570 [00:00<?, ?B/s]"
            ],
            "application/vnd.jupyter.widget-view+json": {
              "version_major": 2,
              "version_minor": 0,
              "model_id": "165ef0b867cb49aeb75fe280fd38cfa8"
            }
          },
          "metadata": {}
        },
        {
          "output_type": "stream",
          "name": "stdout",
          "text": [
            "--2022-06-30 20:11:35--  https://storage.googleapis.com/inspirit-ai-data-bucket-1/Data/AI%20Scholars/Sessions%206%20-%2010%20(Projects)/Project%20-%20Siri%20(Bert)%20Voice%20Commands/train\n",
            "Resolving storage.googleapis.com (storage.googleapis.com)... 142.250.99.128, 173.194.202.128, 108.177.98.128, ...\n",
            "Connecting to storage.googleapis.com (storage.googleapis.com)|142.250.99.128|:443... connected.\n",
            "HTTP request sent, awaiting response... 200 OK\n",
            "Length: 1793794 (1.7M) [application/octet-stream]\n",
            "Saving to: ‘train’\n",
            "\n",
            "\rtrain                 0%[                    ]       0  --.-KB/s               \rtrain               100%[===================>]   1.71M  --.-KB/s    in 0.008s  \n",
            "\n",
            "2022-06-30 20:11:35 (205 MB/s) - ‘train’ saved [1793794/1793794]\n",
            "\n",
            "--2022-06-30 20:11:36--  https://storage.googleapis.com/inspirit-ai-data-bucket-1/Data/AI%20Scholars/Sessions%206%20-%2010%20(Projects)/Project%20-%20Siri%20(Bert)%20Voice%20Commands/valid\n",
            "Resolving storage.googleapis.com (storage.googleapis.com)... 108.177.98.128, 74.125.197.128, 74.125.142.128, ...\n",
            "Connecting to storage.googleapis.com (storage.googleapis.com)|108.177.98.128|:443... connected.\n",
            "HTTP request sent, awaiting response... 200 OK\n",
            "Length: 98609 (96K) [application/octet-stream]\n",
            "Saving to: ‘valid’\n",
            "\n",
            "valid               100%[===================>]  96.30K  --.-KB/s    in 0.001s  \n",
            "\n",
            "2022-06-30 20:11:36 (126 MB/s) - ‘valid’ saved [98609/98609]\n",
            "\n",
            "--2022-06-30 20:11:36--  https://storage.googleapis.com/inspirit-ai-data-bucket-1/Data/AI%20Scholars/Sessions%206%20-%2010%20(Projects)/Project%20-%20Siri%20(Bert)%20Voice%20Commands/test\n",
            "Resolving storage.googleapis.com (storage.googleapis.com)... 108.177.98.128, 74.125.197.128, 74.125.135.128, ...\n",
            "Connecting to storage.googleapis.com (storage.googleapis.com)|108.177.98.128|:443... connected.\n",
            "HTTP request sent, awaiting response... 200 OK\n",
            "Length: 96761 (94K) [application/octet-stream]\n",
            "Saving to: ‘test’\n",
            "\n",
            "test                100%[===================>]  94.49K  --.-KB/s    in 0.001s  \n",
            "\n",
            "2022-06-30 20:11:36 (107 MB/s) - ‘test’ saved [96761/96761]\n",
            "\n",
            "--2022-06-30 20:11:36--  https://storage.googleapis.com/inspirit-ai-data-bucket-1/Data/AI%20Scholars/Sessions%206%20-%2010%20(Projects)/Project%20-%20Siri%20(Bert)%20Voice%20Commands/vocab.intent\n",
            "Resolving storage.googleapis.com (storage.googleapis.com)... 142.250.107.128, 173.194.203.128, 74.125.199.128, ...\n",
            "Connecting to storage.googleapis.com (storage.googleapis.com)|142.250.107.128|:443... connected.\n",
            "HTTP request sent, awaiting response... 200 OK\n",
            "Length: 99 [application/octet-stream]\n",
            "Saving to: ‘vocab.intent’\n",
            "\n",
            "vocab.intent        100%[===================>]      99  --.-KB/s    in 0s      \n",
            "\n",
            "2022-06-30 20:11:36 (17.6 MB/s) - ‘vocab.intent’ saved [99/99]\n",
            "\n",
            "--2022-06-30 20:11:36--  https://storage.googleapis.com/inspirit-ai-data-bucket-1/Data/AI%20Scholars/Sessions%206%20-%2010%20(Projects)/Project%20-%20Siri%20(Bert)%20Voice%20Commands/vocab.slot\n",
            "Resolving storage.googleapis.com (storage.googleapis.com)... 74.125.197.128, 74.125.142.128, 74.125.195.128, ...\n",
            "Connecting to storage.googleapis.com (storage.googleapis.com)|74.125.197.128|:443... connected.\n",
            "HTTP request sent, awaiting response... 200 OK\n",
            "Length: 994 [application/octet-stream]\n",
            "Saving to: ‘vocab.slot’\n",
            "\n",
            "vocab.slot          100%[===================>]     994  --.-KB/s    in 0s      \n",
            "\n",
            "2022-06-30 20:11:36 (18.5 MB/s) - ‘vocab.slot’ saved [994/994]\n",
            "\n"
          ]
        },
        {
          "output_type": "display_data",
          "data": {
            "text/plain": [
              "Downloading:   0%|          | 0.00/502M [00:00<?, ?B/s]"
            ],
            "application/vnd.jupyter.widget-view+json": {
              "version_major": 2,
              "version_minor": 0,
              "model_id": "882afb89cf784802ab8dee9aac9a9b4e"
            }
          },
          "metadata": {}
        },
        {
          "output_type": "stream",
          "name": "stderr",
          "text": [
            "Some layers from the model checkpoint at bert-base-cased were not used when initializing TFBertModel: ['nsp___cls', 'mlm___cls']\n",
            "- This IS expected if you are initializing TFBertModel from the checkpoint of a model trained on another task or with another architecture (e.g. initializing a BertForSequenceClassification model from a BertForPreTraining model).\n",
            "- This IS NOT expected if you are initializing TFBertModel from the checkpoint of a model that you expect to be exactly identical (initializing a BertForSequenceClassification model from a BertForSequenceClassification model).\n",
            "All the layers of TFBertModel were initialized from the model checkpoint at bert-base-cased.\n",
            "If your task is similar to the task the model of the checkpoint was trained on, you can already use TFBertModel for predictions without further training.\n"
          ]
        }
      ],
      "source": [
        "%tensorflow_version 2.x\n",
        "%pip install -q transformers\n",
        "\n",
        "import tensorflow as tf\n",
        "from urllib.request import urlretrieve\n",
        "from pathlib import Path\n",
        "import matplotlib.pyplot as plt\n",
        "import numpy as np\n",
        "import pandas as pd\n",
        "from transformers import BertTokenizer\n",
        "from transformers import TFBertModel\n",
        "from tensorflow.keras.layers import Dropout, Dense\n",
        "from tensorflow.keras.losses import SparseCategoricalCrossentropy\n",
        "from tensorflow.keras.optimizers import Adam\n",
        "from tensorflow.keras.metrics import SparseCategoricalAccuracy\n",
        "\n",
        "model_name = \"bert-base-cased\"\n",
        "tokenizer = BertTokenizer.from_pretrained(model_name)\n",
        "\n",
        "# SNIPS_DATA_BASE_URL = (\n",
        "#     \"https://github.com/ogrisel/slot_filling_and_intent_detection_of_SLU/blob/\"\n",
        "#     \"master/data/snips/\"\n",
        "# )\n",
        "# for filename in [\"train\", \"valid\", \"test\", \"vocab.intent\", \"vocab.slot\"]:\n",
        "#     path = Path(filename)\n",
        "#     if not path.exists():\n",
        "#       print(f\"Downloading {filename}...\")\n",
        "#       urlretrieve(SNIPS_DATA_BASE_URL + filename + \"?raw=true\", path)\n",
        "\n",
        "!wget 'https://storage.googleapis.com/inspirit-ai-data-bucket-1/Data/AI%20Scholars/Sessions%206%20-%2010%20(Projects)/Project%20-%20Siri%20(Bert)%20Voice%20Commands/train'\n",
        "!wget 'https://storage.googleapis.com/inspirit-ai-data-bucket-1/Data/AI%20Scholars/Sessions%206%20-%2010%20(Projects)/Project%20-%20Siri%20(Bert)%20Voice%20Commands/valid'\n",
        "!wget 'https://storage.googleapis.com/inspirit-ai-data-bucket-1/Data/AI%20Scholars/Sessions%206%20-%2010%20(Projects)/Project%20-%20Siri%20(Bert)%20Voice%20Commands/test'\n",
        "!wget 'https://storage.googleapis.com/inspirit-ai-data-bucket-1/Data/AI%20Scholars/Sessions%206%20-%2010%20(Projects)/Project%20-%20Siri%20(Bert)%20Voice%20Commands/vocab.intent'\n",
        "!wget 'https://storage.googleapis.com/inspirit-ai-data-bucket-1/Data/AI%20Scholars/Sessions%206%20-%2010%20(Projects)/Project%20-%20Siri%20(Bert)%20Voice%20Commands/vocab.slot'\n",
        "\n",
        "\n",
        "\n",
        "def parse_line(line):\n",
        "    data, intent_label = line.split(\" <=> \")\n",
        "    items = data.split()\n",
        "    words = [item.rsplit(\":\", 1)[0]for item in items]\n",
        "    word_labels = [item.rsplit(\":\", 1)[1]for item in items]\n",
        "    return {\n",
        "        \"intent_label\": intent_label, \n",
        "        \"words\": \" \".join(words),\n",
        "        \"word_labels\": \" \".join(word_labels),\n",
        "        \"length\": len(words),\n",
        "    }\n",
        "\n",
        "def encode_dataset(text_sequences):\n",
        "    # Create token_ids array (initialized to all zeros), where \n",
        "    # rows are a sequence and columns are encoding ids\n",
        "    # of each token in given sequence.\n",
        "    token_ids = np.zeros(shape=(len(text_sequences), max_token_len),\n",
        "                         dtype=np.int32)\n",
        "    \n",
        "    for i, text_sequence in enumerate(text_sequences):\n",
        "        encoded = tokenizer.encode(text_sequence)\n",
        "        token_ids[i, 0:len(encoded)] = encoded\n",
        "\n",
        "    attention_masks = (token_ids != 0).astype(np.int32)\n",
        "    return {\"input_ids\": token_ids, \"attention_masks\": attention_masks}\n",
        "\n",
        "\n",
        "train_lines = Path(\"train\").read_text().strip().splitlines()\n",
        "valid_lines = Path(\"valid\").read_text().strip().splitlines()\n",
        "test_lines = Path(\"test\").read_text().strip().splitlines()\n",
        "\n",
        "df_train = pd.DataFrame([parse_line(line) for line in train_lines])\n",
        "df_valid = pd.DataFrame([parse_line(line) for line in valid_lines])\n",
        "df_test = pd.DataFrame([parse_line(line) for line in test_lines])\n",
        "\n",
        "max_token_len = 43\n",
        "\n",
        "encoded_train = encode_dataset(df_train[\"words\"])\n",
        "encoded_valid = encode_dataset(df_valid[\"words\"])\n",
        "encoded_test = encode_dataset(df_test[\"words\"])\n",
        "\n",
        "intent_names = Path(\"vocab.intent\").read_text().split()\n",
        "intent_map = dict((label, idx) for idx, label in enumerate(intent_names))\n",
        "intent_train = df_train[\"intent_label\"].map(intent_map).values\n",
        "intent_valid = df_valid[\"intent_label\"].map(intent_map).values\n",
        "intent_test = df_test[\"intent_label\"].map(intent_map).values\n",
        "\n",
        "base_bert_model = TFBertModel.from_pretrained(\"bert-base-cased\")"
      ]
    },
    {
      "cell_type": "code",
      "execution_count": null,
      "metadata": {
        "colab": {
          "base_uri": "https://localhost:8080/"
        },
        "id": "_HtO77h2snDB",
        "outputId": "0787eaea-a473-4b07-9ac8-e6121196775e"
      },
      "outputs": [
        {
          "output_type": "execute_result",
          "data": {
            "text/plain": [
              "{'B-album': 1,\n",
              " 'B-artist': 2,\n",
              " 'B-best_rating': 3,\n",
              " 'B-city': 4,\n",
              " 'B-condition_description': 5,\n",
              " 'B-condition_temperature': 6,\n",
              " 'B-country': 7,\n",
              " 'B-cuisine': 8,\n",
              " 'B-current_location': 9,\n",
              " 'B-entity_name': 10,\n",
              " 'B-facility': 11,\n",
              " 'B-genre': 12,\n",
              " 'B-geographic_poi': 13,\n",
              " 'B-location_name': 14,\n",
              " 'B-movie_name': 15,\n",
              " 'B-movie_type': 16,\n",
              " 'B-music_item': 17,\n",
              " 'B-object_location_type': 18,\n",
              " 'B-object_name': 19,\n",
              " 'B-object_part_of_series_type': 20,\n",
              " 'B-object_select': 21,\n",
              " 'B-object_type': 22,\n",
              " 'B-party_size_description': 23,\n",
              " 'B-party_size_number': 24,\n",
              " 'B-playlist': 25,\n",
              " 'B-playlist_owner': 26,\n",
              " 'B-poi': 27,\n",
              " 'B-rating_unit': 28,\n",
              " 'B-rating_value': 29,\n",
              " 'B-restaurant_name': 30,\n",
              " 'B-restaurant_type': 31,\n",
              " 'B-served_dish': 32,\n",
              " 'B-service': 33,\n",
              " 'B-sort': 34,\n",
              " 'B-spatial_relation': 35,\n",
              " 'B-state': 36,\n",
              " 'B-timeRange': 37,\n",
              " 'B-track': 38,\n",
              " 'B-year': 39,\n",
              " 'I-album': 40,\n",
              " 'I-artist': 41,\n",
              " 'I-city': 42,\n",
              " 'I-country': 43,\n",
              " 'I-cuisine': 44,\n",
              " 'I-current_location': 45,\n",
              " 'I-entity_name': 46,\n",
              " 'I-facility': 47,\n",
              " 'I-genre': 48,\n",
              " 'I-geographic_poi': 49,\n",
              " 'I-location_name': 50,\n",
              " 'I-movie_name': 51,\n",
              " 'I-movie_type': 52,\n",
              " 'I-music_item': 53,\n",
              " 'I-object_location_type': 54,\n",
              " 'I-object_name': 55,\n",
              " 'I-object_part_of_series_type': 56,\n",
              " 'I-object_select': 57,\n",
              " 'I-object_type': 58,\n",
              " 'I-party_size_description': 59,\n",
              " 'I-playlist': 60,\n",
              " 'I-playlist_owner': 61,\n",
              " 'I-poi': 62,\n",
              " 'I-restaurant_name': 63,\n",
              " 'I-restaurant_type': 64,\n",
              " 'I-served_dish': 65,\n",
              " 'I-service': 66,\n",
              " 'I-sort': 67,\n",
              " 'I-spatial_relation': 68,\n",
              " 'I-state': 69,\n",
              " 'I-timeRange': 70,\n",
              " 'I-track': 71,\n",
              " 'O': 72,\n",
              " '[PAD]': 0}"
            ]
          },
          "metadata": {},
          "execution_count": 2
        }
      ],
      "source": [
        "# Build a map from slot name to a unique id.\n",
        "slot_names = [\"[PAD]\"] + Path(\"vocab.slot\").read_text().strip().splitlines()\n",
        "slot_map = {}\n",
        "for label in slot_names:\n",
        "    slot_map[label] = len(slot_map)\n",
        "slot_map"
      ]
    },
    {
      "cell_type": "code",
      "execution_count": null,
      "metadata": {
        "id": "WeChi7UlsxWQ"
      },
      "outputs": [],
      "source": [
        "# Uses the slot_map of slot name to unique id, defined above, as well\n",
        "# as the BERT tokenizer, to create a np array with each row corresponding\n",
        "# to a given sequence, and the columns as the id of the given token slot labels.\n",
        "def encode_token_labels(text_sequences, true_word_labels):\n",
        "    encoded = np.zeros(shape=(len(text_sequences), max_token_len), dtype=np.int32)\n",
        "    for i, (text_sequence, word_labels) in enumerate( \\\n",
        "            zip(text_sequences, true_word_labels)):\n",
        "        encoded_labels = []\n",
        "        for word, word_label in zip(text_sequence.split(), word_labels.split()):\n",
        "            tokens = tokenizer.tokenize(word)\n",
        "            encoded_labels.append(slot_map[word_label])\n",
        "            expand_label = word_label.replace(\"B-\", \"I-\")\n",
        "            if not expand_label in slot_map:\n",
        "                expand_label = word_label\n",
        "            encoded_labels.extend([slot_map[expand_label]] * (len(tokens) - 1))\n",
        "        encoded[i, 1:len(encoded_labels) + 1] = encoded_labels\n",
        "    return encoded"
      ]
    },
    {
      "cell_type": "markdown",
      "metadata": {
        "id": "yqgjn30y45RV"
      },
      "source": [
        "#### Exercise 1\n",
        "\n",
        "Let's encode the token labels for train, validation, & test:"
      ]
    },
    {
      "cell_type": "code",
      "execution_count": null,
      "metadata": {
        "id": "2_E2mYLys06d"
      },
      "outputs": [],
      "source": [
        "# Encode the token labels and store in variables slot_train, slot_valid, slot_test.\n",
        "slot_train = encode_token_labels(df_train[\"words\"], df_train[\"word_labels\"])\n",
        "slot_test = encode_token_labels(df_test[\"words\"],df_test[\"word_labels\"])\n",
        "slot_valid = encode_token_labels(df_valid[\"words\"],df_valid[\"word_labels\"])"
      ]
    },
    {
      "cell_type": "code",
      "execution_count": null,
      "metadata": {
        "colab": {
          "base_uri": "https://localhost:8080/"
        },
        "id": "rXc6Tzlks3Tn",
        "outputId": "3913ee03-5792-49a6-fc1c-a1562694ddac"
      },
      "outputs": [
        {
          "output_type": "execute_result",
          "data": {
            "text/plain": [
              "array([ 0, 72, 72, 10, 46, 46, 46, 72, 26, 25, 60, 60, 60, 60, 60, 60, 72,\n",
              "       72,  0,  0,  0,  0,  0,  0,  0,  0,  0,  0,  0,  0,  0,  0,  0,  0,\n",
              "        0,  0,  0,  0,  0,  0,  0,  0,  0], dtype=int32)"
            ]
          },
          "metadata": {},
          "execution_count": 5
        }
      ],
      "source": [
        "slot_train[0]"
      ]
    },
    {
      "cell_type": "code",
      "execution_count": null,
      "metadata": {
        "id": "Wn5MWCeOtefa"
      },
      "outputs": [],
      "source": [
        "# Define the class for the model that will create predictions\n",
        "# for the overall intent of a sequence, as well as the NER token labels.\n",
        "class JointIntentAndSlotFillingModel(tf.keras.Model):\n",
        "\n",
        "    def __init__(self, intent_num_labels=None, slot_num_labels=None,\n",
        "                dropout_prob=0.1):\n",
        "        super().__init__(name=\"joint_intent_slot\")\n",
        "\n",
        "        self.bert = base_bert_model\n",
        "        self.dropout = Dropout(dropout_prob)\n",
        "        self.intent_classifier = Dense(intent_num_labels)\n",
        "        self.slot_classifier = Dense(slot_num_labels)\n",
        "\n",
        "    def call(self, inputs, **kwargs):\n",
        "        # Extract features from the inputs using pre-trained BERT.\n",
        "        tokens_output, pooled_output = self.bert(inputs, **kwargs, return_dict=False)\n",
        "        tokens_output = self.dropout(tokens_output, \\\n",
        "                                     training=kwargs.get(\"training\", False))  \n",
        "        slot_logits = self.slot_classifier(tokens_output)   \n",
        "\n",
        "\n",
        "        pooled_output = self.dropout(pooled_output, \\\n",
        "                                     training=kwargs.get(\"training\", False))\n",
        "        intent_logits = self.intent_classifier(pooled_output)\n",
        "\n",
        "        return slot_logits, intent_logits\n",
        "\n",
        "# Instantiate the model\n",
        "joint_model = JointIntentAndSlotFillingModel(intent_num_labels = len(intent_map), slot_num_labels = len(slot_map))"
      ]
    },
    {
      "cell_type": "code",
      "execution_count": null,
      "metadata": {
        "id": "1t7cP_dWuChJ"
      },
      "outputs": [],
      "source": [
        "# Define one classification loss for each output (intent & NER):\n",
        "losses = [SparseCategoricalCrossentropy(from_logits=True),\n",
        "          SparseCategoricalCrossentropy(from_logits=True)]\n",
        "          \n",
        "joint_model.compile(optimizer=Adam(learning_rate=3e-5, epsilon=1e-08),\n",
        "                    loss=losses,\n",
        "                    metrics=[SparseCategoricalAccuracy('accuracy')], run_eagerly=True)"
      ]
    },
    {
      "cell_type": "code",
      "execution_count": null,
      "metadata": {
        "colab": {
          "base_uri": "https://localhost:8080/"
        },
        "id": "eWhvmB8puECV",
        "outputId": "66c52482-7059-4dad-9f36-94fc0e650832"
      },
      "outputs": [
        {
          "output_type": "stream",
          "name": "stdout",
          "text": [
            "409/409 [==============================] - 230s 558ms/step - loss: 0.4788 - output_1_loss: 0.2741 - output_2_loss: 0.2046 - output_1_accuracy: 0.9384 - output_2_accuracy: 0.9357 - val_loss: 0.0977 - val_output_1_loss: 0.0463 - val_output_2_loss: 0.0514 - val_output_1_accuracy: 0.9877 - val_output_2_accuracy: 0.9900\n"
          ]
        }
      ],
      "source": [
        "# Train the model.\n",
        "history = joint_model.fit(encoded_train[\"input_ids\"], (slot_train, intent_train), \\\n",
        "    validation_data=(encoded_valid[\"input_ids\"], (slot_valid, intent_valid)), \\\n",
        "    epochs=1, batch_size=32)"
      ]
    },
    {
      "cell_type": "code",
      "execution_count": null,
      "metadata": {
        "id": "yq9qh16auKqp"
      },
      "outputs": [],
      "source": [
        "# Use the model we trained to get the intent & slot logits\n",
        "# and print the actual string of the class corresponding to\n",
        "# highest logit score for each token, and the sentence overall.\n",
        "def show_predictions(text, intent_names, slot_names):\n",
        "    inputs = tf.constant(tokenizer.encode(text))[None, :]  # batch_size = 1\n",
        "    outputs = joint_model(inputs)\n",
        "    slot_logits, intent_logits = outputs\n",
        "    slot_ids = slot_logits.numpy().argmax(axis=-1)[0, 1:-1]\n",
        "    intent_id = intent_logits.numpy().argmax(axis=-1)[0]\n",
        "    print(\"## Intent:\", intent_names[intent_id])\n",
        "    print(\"## Slots:\",)\n",
        "    for token, slot_id in zip(tokenizer.tokenize(text), slot_ids):\n",
        "        print(f\"{token:>10} : {slot_names[slot_id]}\")"
      ]
    },
    {
      "cell_type": "code",
      "execution_count": null,
      "metadata": {
        "id": "LYp8Z4-AuOGq",
        "colab": {
          "base_uri": "https://localhost:8080/"
        },
        "outputId": "547fd30d-12f1-466c-e8f4-b3061c4c0c96"
      },
      "outputs": [
        {
          "output_type": "stream",
          "name": "stdout",
          "text": [
            "## Intent: BookRestaurant\n",
            "## Slots:\n",
            "      Book : O\n",
            "         a : O\n",
            "     table : O\n",
            "       for : O\n",
            "       two : B-party_size_number\n",
            "        at : O\n",
            "        Le : B-restaurant_name\n",
            "         R : I-restaurant_name\n",
            "     ##itz : I-restaurant_name\n",
            "       for : O\n",
            "    Friday : B-timeRange\n",
            "     night : I-timeRange\n",
            "         ! : O\n"
          ]
        }
      ],
      "source": [
        "show_predictions(\"Book a table for two at Le Ritz for Friday night!\", intent_names, slot_names)"
      ]
    },
    {
      "cell_type": "code",
      "execution_count": null,
      "metadata": {
        "id": "4CqNuF_YuPfK",
        "colab": {
          "base_uri": "https://localhost:8080/"
        },
        "outputId": "c6217db6-902d-4703-e739-b4dc1aabd5ec"
      },
      "outputs": [
        {
          "output_type": "stream",
          "name": "stdout",
          "text": [
            "## Intent: GetWeather\n",
            "## Slots:\n",
            "      Will : O\n",
            "        it : O\n",
            "      snow : B-condition_description\n",
            "  tomorrow : B-timeRange\n",
            "        in : O\n",
            "        Sa : B-city\n",
            "       ##c : I-city\n",
            "     ##lay : I-city\n",
            "         ? : O\n"
          ]
        }
      ],
      "source": [
        "show_predictions(\"Will it snow tomorrow in Saclay?\", intent_names, slot_names)"
      ]
    },
    {
      "cell_type": "code",
      "execution_count": null,
      "metadata": {
        "id": "sDijGXG0uQvf",
        "colab": {
          "base_uri": "https://localhost:8080/"
        },
        "outputId": "65856c3d-3e4d-4cfd-ce25-9b66b58169a0"
      },
      "outputs": [
        {
          "output_type": "stream",
          "name": "stdout",
          "text": [
            "## Intent: PlayMusic\n",
            "## Slots:\n",
            "         I : O\n",
            "     would : O\n",
            "      like : O\n",
            "        to : O\n",
            "    listen : O\n",
            "        to : O\n",
            "        An : B-movie_name\n",
            "     ##ima : I-track\n",
            "        by : O\n",
            "      Thom : B-artist\n",
            "      York : I-artist\n",
            "       ##e : I-artist\n",
            "         . : O\n"
          ]
        }
      ],
      "source": [
        "show_predictions(\"I would like to listen to Anima by Thom Yorke.\", intent_names, slot_names)"
      ]
    },
    {
      "cell_type": "code",
      "execution_count": null,
      "metadata": {
        "id": "udnUVXCvuT4e"
      },
      "outputs": [],
      "source": [
        "def decode_predictions(text, intent_names, slot_names,\n",
        "                       intent_id, slot_ids):\n",
        "    info = {\"intent\": intent_names[intent_id]}\n",
        "    collected_slots = {}\n",
        "    active_slot_words = []\n",
        "    active_slot_name = None\n",
        "    for word in text.split():\n",
        "        tokens = tokenizer.tokenize(word)\n",
        "        current_word_slot_ids = slot_ids[:len(tokens)]\n",
        "        slot_ids = slot_ids[len(tokens):]\n",
        "        current_word_slot_name = slot_names[current_word_slot_ids[0]]\n",
        "        if current_word_slot_name == \"O\":\n",
        "            if active_slot_name:\n",
        "                collected_slots[active_slot_name] = \" \".join(active_slot_words)\n",
        "                active_slot_words = []\n",
        "                active_slot_name = None\n",
        "        else:\n",
        "            # Naive BIO: handling: treat B- and I- the same...\n",
        "            new_slot_name = current_word_slot_name[2:]\n",
        "            if active_slot_name is None:\n",
        "                active_slot_words.append(word)\n",
        "                active_slot_name = new_slot_name\n",
        "            elif new_slot_name == active_slot_name:\n",
        "                active_slot_words.append(word)\n",
        "            else:\n",
        "                collected_slots[active_slot_name] = \" \".join(active_slot_words)\n",
        "                active_slot_words = [word]\n",
        "                active_slot_name = new_slot_name\n",
        "    if active_slot_name:\n",
        "        collected_slots[active_slot_name] = \" \".join(active_slot_words)\n",
        "    info[\"slots\"] = collected_slots\n",
        "    return info"
      ]
    },
    {
      "cell_type": "code",
      "execution_count": null,
      "metadata": {
        "id": "C5-mstZjuV52"
      },
      "outputs": [],
      "source": [
        "def nlu(text, intent_names, slot_names):\n",
        "    inputs = tf.constant(tokenizer.encode(text))[None, :]  # batch_size = 1\n",
        "    outputs = joint_model(inputs)\n",
        "    slot_logits, intent_logits = outputs\n",
        "    slot_ids = slot_logits.numpy().argmax(axis=-1)[0, 1:-1]\n",
        "    intent_id = intent_logits.numpy().argmax(axis=-1)[0]\n",
        "\n",
        "    return decode_predictions(text, intent_names, slot_names, intent_id, slot_ids)"
      ]
    },
    {
      "cell_type": "code",
      "execution_count": null,
      "metadata": {
        "id": "OUNcIW8buZmW",
        "colab": {
          "base_uri": "https://localhost:8080/"
        },
        "outputId": "52d4c96d-5bab-4d75-88bf-986c24cb5d6a"
      },
      "outputs": [
        {
          "output_type": "stream",
          "name": "stdout",
          "text": [
            "['AddToPlaylist', 'BookRestaurant', 'GetWeather', 'PlayMusic', 'RateBook', 'SearchCreativeWork', 'SearchScreeningEvent']\n"
          ]
        }
      ],
      "source": [
        "nlu(\"Book a table for two at Le Ritz for Friday night\", intent_names, slot_names)"
      ]
    },
    {
      "cell_type": "code",
      "execution_count": null,
      "metadata": {
        "id": "1WruhL1tubsP",
        "colab": {
          "base_uri": "https://localhost:8080/"
        },
        "outputId": "425f97a7-d4cb-4b8f-fa1e-529ddf48528b"
      },
      "outputs": [
        {
          "output_type": "execute_result",
          "data": {
            "text/plain": [
              "{'intent': 'GetWeather', 'slots': {'condition_description': 'raining?'}}"
            ]
          },
          "metadata": {},
          "execution_count": 24
        }
      ],
      "source": [
        "nlu(\"Is it raining?\", intent_names, slot_names)"
      ]
    },
    {
      "cell_type": "code",
      "execution_count": null,
      "metadata": {
        "id": "OiVegtxAudAj",
        "colab": {
          "base_uri": "https://localhost:8080/"
        },
        "outputId": "b7ad5801-7e0e-4d73-d089-3feaaa81c5c7"
      },
      "outputs": [
        {
          "output_type": "execute_result",
          "data": {
            "text/plain": [
              "{'intent': 'PlayMusic',\n",
              " 'slots': {'artist': 'Thom Yorke', 'movie_name': 'Anima'}}"
            ]
          },
          "metadata": {},
          "execution_count": 21
        }
      ],
      "source": [
        "nlu(\"I would like to listen to Anima by Thom Yorke\", intent_names, slot_names)"
      ]
    }
  ],
  "metadata": {
    "accelerator": "GPU",
    "colab": {
      "provenance": [],
      "include_colab_link": true
    },
    "gpuClass": "standard",
    "kernelspec": {
      "display_name": "Python 3",
      "name": "python3"
    },
    "widgets": {
      "application/vnd.jupyter.widget-state+json": {
        "7833891e07ce472c91cb866342d1b029": {
          "model_module": "@jupyter-widgets/controls",
          "model_name": "HBoxModel",
          "model_module_version": "1.5.0",
          "state": {
            "_dom_classes": [],
            "_model_module": "@jupyter-widgets/controls",
            "_model_module_version": "1.5.0",
            "_model_name": "HBoxModel",
            "_view_count": null,
            "_view_module": "@jupyter-widgets/controls",
            "_view_module_version": "1.5.0",
            "_view_name": "HBoxView",
            "box_style": "",
            "children": [
              "IPY_MODEL_15311eec97aa4ada8421973cf0022915",
              "IPY_MODEL_ab961373f7de4356abe7aef70e198496",
              "IPY_MODEL_1876d5431f204b27862bd0d0a1e1011b"
            ],
            "layout": "IPY_MODEL_f5bf107399af4f049a32515a3f416532"
          }
        },
        "15311eec97aa4ada8421973cf0022915": {
          "model_module": "@jupyter-widgets/controls",
          "model_name": "HTMLModel",
          "model_module_version": "1.5.0",
          "state": {
            "_dom_classes": [],
            "_model_module": "@jupyter-widgets/controls",
            "_model_module_version": "1.5.0",
            "_model_name": "HTMLModel",
            "_view_count": null,
            "_view_module": "@jupyter-widgets/controls",
            "_view_module_version": "1.5.0",
            "_view_name": "HTMLView",
            "description": "",
            "description_tooltip": null,
            "layout": "IPY_MODEL_78e5936e524842ab83a515b8d355f1c8",
            "placeholder": "​",
            "style": "IPY_MODEL_f420028057f24a43b01cbe8edf5fb83d",
            "value": "Downloading: 100%"
          }
        },
        "ab961373f7de4356abe7aef70e198496": {
          "model_module": "@jupyter-widgets/controls",
          "model_name": "FloatProgressModel",
          "model_module_version": "1.5.0",
          "state": {
            "_dom_classes": [],
            "_model_module": "@jupyter-widgets/controls",
            "_model_module_version": "1.5.0",
            "_model_name": "FloatProgressModel",
            "_view_count": null,
            "_view_module": "@jupyter-widgets/controls",
            "_view_module_version": "1.5.0",
            "_view_name": "ProgressView",
            "bar_style": "success",
            "description": "",
            "description_tooltip": null,
            "layout": "IPY_MODEL_51e7d262319446548c3c660081ef9aad",
            "max": 213450,
            "min": 0,
            "orientation": "horizontal",
            "style": "IPY_MODEL_cceca73fe8a2434486a3c8e8c324d404",
            "value": 213450
          }
        },
        "1876d5431f204b27862bd0d0a1e1011b": {
          "model_module": "@jupyter-widgets/controls",
          "model_name": "HTMLModel",
          "model_module_version": "1.5.0",
          "state": {
            "_dom_classes": [],
            "_model_module": "@jupyter-widgets/controls",
            "_model_module_version": "1.5.0",
            "_model_name": "HTMLModel",
            "_view_count": null,
            "_view_module": "@jupyter-widgets/controls",
            "_view_module_version": "1.5.0",
            "_view_name": "HTMLView",
            "description": "",
            "description_tooltip": null,
            "layout": "IPY_MODEL_f61415db882c4e6e8bfc9d2c05d1adb6",
            "placeholder": "​",
            "style": "IPY_MODEL_3dd4b594b36047fa813eba73245ff93f",
            "value": " 208k/208k [00:00&lt;00:00, 880kB/s]"
          }
        },
        "f5bf107399af4f049a32515a3f416532": {
          "model_module": "@jupyter-widgets/base",
          "model_name": "LayoutModel",
          "model_module_version": "1.2.0",
          "state": {
            "_model_module": "@jupyter-widgets/base",
            "_model_module_version": "1.2.0",
            "_model_name": "LayoutModel",
            "_view_count": null,
            "_view_module": "@jupyter-widgets/base",
            "_view_module_version": "1.2.0",
            "_view_name": "LayoutView",
            "align_content": null,
            "align_items": null,
            "align_self": null,
            "border": null,
            "bottom": null,
            "display": null,
            "flex": null,
            "flex_flow": null,
            "grid_area": null,
            "grid_auto_columns": null,
            "grid_auto_flow": null,
            "grid_auto_rows": null,
            "grid_column": null,
            "grid_gap": null,
            "grid_row": null,
            "grid_template_areas": null,
            "grid_template_columns": null,
            "grid_template_rows": null,
            "height": null,
            "justify_content": null,
            "justify_items": null,
            "left": null,
            "margin": null,
            "max_height": null,
            "max_width": null,
            "min_height": null,
            "min_width": null,
            "object_fit": null,
            "object_position": null,
            "order": null,
            "overflow": null,
            "overflow_x": null,
            "overflow_y": null,
            "padding": null,
            "right": null,
            "top": null,
            "visibility": null,
            "width": null
          }
        },
        "78e5936e524842ab83a515b8d355f1c8": {
          "model_module": "@jupyter-widgets/base",
          "model_name": "LayoutModel",
          "model_module_version": "1.2.0",
          "state": {
            "_model_module": "@jupyter-widgets/base",
            "_model_module_version": "1.2.0",
            "_model_name": "LayoutModel",
            "_view_count": null,
            "_view_module": "@jupyter-widgets/base",
            "_view_module_version": "1.2.0",
            "_view_name": "LayoutView",
            "align_content": null,
            "align_items": null,
            "align_self": null,
            "border": null,
            "bottom": null,
            "display": null,
            "flex": null,
            "flex_flow": null,
            "grid_area": null,
            "grid_auto_columns": null,
            "grid_auto_flow": null,
            "grid_auto_rows": null,
            "grid_column": null,
            "grid_gap": null,
            "grid_row": null,
            "grid_template_areas": null,
            "grid_template_columns": null,
            "grid_template_rows": null,
            "height": null,
            "justify_content": null,
            "justify_items": null,
            "left": null,
            "margin": null,
            "max_height": null,
            "max_width": null,
            "min_height": null,
            "min_width": null,
            "object_fit": null,
            "object_position": null,
            "order": null,
            "overflow": null,
            "overflow_x": null,
            "overflow_y": null,
            "padding": null,
            "right": null,
            "top": null,
            "visibility": null,
            "width": null
          }
        },
        "f420028057f24a43b01cbe8edf5fb83d": {
          "model_module": "@jupyter-widgets/controls",
          "model_name": "DescriptionStyleModel",
          "model_module_version": "1.5.0",
          "state": {
            "_model_module": "@jupyter-widgets/controls",
            "_model_module_version": "1.5.0",
            "_model_name": "DescriptionStyleModel",
            "_view_count": null,
            "_view_module": "@jupyter-widgets/base",
            "_view_module_version": "1.2.0",
            "_view_name": "StyleView",
            "description_width": ""
          }
        },
        "51e7d262319446548c3c660081ef9aad": {
          "model_module": "@jupyter-widgets/base",
          "model_name": "LayoutModel",
          "model_module_version": "1.2.0",
          "state": {
            "_model_module": "@jupyter-widgets/base",
            "_model_module_version": "1.2.0",
            "_model_name": "LayoutModel",
            "_view_count": null,
            "_view_module": "@jupyter-widgets/base",
            "_view_module_version": "1.2.0",
            "_view_name": "LayoutView",
            "align_content": null,
            "align_items": null,
            "align_self": null,
            "border": null,
            "bottom": null,
            "display": null,
            "flex": null,
            "flex_flow": null,
            "grid_area": null,
            "grid_auto_columns": null,
            "grid_auto_flow": null,
            "grid_auto_rows": null,
            "grid_column": null,
            "grid_gap": null,
            "grid_row": null,
            "grid_template_areas": null,
            "grid_template_columns": null,
            "grid_template_rows": null,
            "height": null,
            "justify_content": null,
            "justify_items": null,
            "left": null,
            "margin": null,
            "max_height": null,
            "max_width": null,
            "min_height": null,
            "min_width": null,
            "object_fit": null,
            "object_position": null,
            "order": null,
            "overflow": null,
            "overflow_x": null,
            "overflow_y": null,
            "padding": null,
            "right": null,
            "top": null,
            "visibility": null,
            "width": null
          }
        },
        "cceca73fe8a2434486a3c8e8c324d404": {
          "model_module": "@jupyter-widgets/controls",
          "model_name": "ProgressStyleModel",
          "model_module_version": "1.5.0",
          "state": {
            "_model_module": "@jupyter-widgets/controls",
            "_model_module_version": "1.5.0",
            "_model_name": "ProgressStyleModel",
            "_view_count": null,
            "_view_module": "@jupyter-widgets/base",
            "_view_module_version": "1.2.0",
            "_view_name": "StyleView",
            "bar_color": null,
            "description_width": ""
          }
        },
        "f61415db882c4e6e8bfc9d2c05d1adb6": {
          "model_module": "@jupyter-widgets/base",
          "model_name": "LayoutModel",
          "model_module_version": "1.2.0",
          "state": {
            "_model_module": "@jupyter-widgets/base",
            "_model_module_version": "1.2.0",
            "_model_name": "LayoutModel",
            "_view_count": null,
            "_view_module": "@jupyter-widgets/base",
            "_view_module_version": "1.2.0",
            "_view_name": "LayoutView",
            "align_content": null,
            "align_items": null,
            "align_self": null,
            "border": null,
            "bottom": null,
            "display": null,
            "flex": null,
            "flex_flow": null,
            "grid_area": null,
            "grid_auto_columns": null,
            "grid_auto_flow": null,
            "grid_auto_rows": null,
            "grid_column": null,
            "grid_gap": null,
            "grid_row": null,
            "grid_template_areas": null,
            "grid_template_columns": null,
            "grid_template_rows": null,
            "height": null,
            "justify_content": null,
            "justify_items": null,
            "left": null,
            "margin": null,
            "max_height": null,
            "max_width": null,
            "min_height": null,
            "min_width": null,
            "object_fit": null,
            "object_position": null,
            "order": null,
            "overflow": null,
            "overflow_x": null,
            "overflow_y": null,
            "padding": null,
            "right": null,
            "top": null,
            "visibility": null,
            "width": null
          }
        },
        "3dd4b594b36047fa813eba73245ff93f": {
          "model_module": "@jupyter-widgets/controls",
          "model_name": "DescriptionStyleModel",
          "model_module_version": "1.5.0",
          "state": {
            "_model_module": "@jupyter-widgets/controls",
            "_model_module_version": "1.5.0",
            "_model_name": "DescriptionStyleModel",
            "_view_count": null,
            "_view_module": "@jupyter-widgets/base",
            "_view_module_version": "1.2.0",
            "_view_name": "StyleView",
            "description_width": ""
          }
        },
        "459cdec213ad4084a53a337c677f3dc1": {
          "model_module": "@jupyter-widgets/controls",
          "model_name": "HBoxModel",
          "model_module_version": "1.5.0",
          "state": {
            "_dom_classes": [],
            "_model_module": "@jupyter-widgets/controls",
            "_model_module_version": "1.5.0",
            "_model_name": "HBoxModel",
            "_view_count": null,
            "_view_module": "@jupyter-widgets/controls",
            "_view_module_version": "1.5.0",
            "_view_name": "HBoxView",
            "box_style": "",
            "children": [
              "IPY_MODEL_43070c914c3044269dd5cdaa045c600e",
              "IPY_MODEL_2fb68314c78f4b32940558eee49bf659",
              "IPY_MODEL_cb1d0164febf42c3bad76d446de4b953"
            ],
            "layout": "IPY_MODEL_90baa635a9764767a983f3bf58f45cdd"
          }
        },
        "43070c914c3044269dd5cdaa045c600e": {
          "model_module": "@jupyter-widgets/controls",
          "model_name": "HTMLModel",
          "model_module_version": "1.5.0",
          "state": {
            "_dom_classes": [],
            "_model_module": "@jupyter-widgets/controls",
            "_model_module_version": "1.5.0",
            "_model_name": "HTMLModel",
            "_view_count": null,
            "_view_module": "@jupyter-widgets/controls",
            "_view_module_version": "1.5.0",
            "_view_name": "HTMLView",
            "description": "",
            "description_tooltip": null,
            "layout": "IPY_MODEL_bbcadfae97c64a1c9dd4aafac7222448",
            "placeholder": "​",
            "style": "IPY_MODEL_f4e6dea9482248cb86f49ab42ed9e18f",
            "value": "Downloading: 100%"
          }
        },
        "2fb68314c78f4b32940558eee49bf659": {
          "model_module": "@jupyter-widgets/controls",
          "model_name": "FloatProgressModel",
          "model_module_version": "1.5.0",
          "state": {
            "_dom_classes": [],
            "_model_module": "@jupyter-widgets/controls",
            "_model_module_version": "1.5.0",
            "_model_name": "FloatProgressModel",
            "_view_count": null,
            "_view_module": "@jupyter-widgets/controls",
            "_view_module_version": "1.5.0",
            "_view_name": "ProgressView",
            "bar_style": "success",
            "description": "",
            "description_tooltip": null,
            "layout": "IPY_MODEL_c82724661a13416b94ba23a15e384b07",
            "max": 29,
            "min": 0,
            "orientation": "horizontal",
            "style": "IPY_MODEL_a350319c394a4edfb320817cd9540568",
            "value": 29
          }
        },
        "cb1d0164febf42c3bad76d446de4b953": {
          "model_module": "@jupyter-widgets/controls",
          "model_name": "HTMLModel",
          "model_module_version": "1.5.0",
          "state": {
            "_dom_classes": [],
            "_model_module": "@jupyter-widgets/controls",
            "_model_module_version": "1.5.0",
            "_model_name": "HTMLModel",
            "_view_count": null,
            "_view_module": "@jupyter-widgets/controls",
            "_view_module_version": "1.5.0",
            "_view_name": "HTMLView",
            "description": "",
            "description_tooltip": null,
            "layout": "IPY_MODEL_a0b010ff6d5c44f380a49f94b840b077",
            "placeholder": "​",
            "style": "IPY_MODEL_600629a261d44082acf9c5c11c36066d",
            "value": " 29.0/29.0 [00:00&lt;00:00, 899B/s]"
          }
        },
        "90baa635a9764767a983f3bf58f45cdd": {
          "model_module": "@jupyter-widgets/base",
          "model_name": "LayoutModel",
          "model_module_version": "1.2.0",
          "state": {
            "_model_module": "@jupyter-widgets/base",
            "_model_module_version": "1.2.0",
            "_model_name": "LayoutModel",
            "_view_count": null,
            "_view_module": "@jupyter-widgets/base",
            "_view_module_version": "1.2.0",
            "_view_name": "LayoutView",
            "align_content": null,
            "align_items": null,
            "align_self": null,
            "border": null,
            "bottom": null,
            "display": null,
            "flex": null,
            "flex_flow": null,
            "grid_area": null,
            "grid_auto_columns": null,
            "grid_auto_flow": null,
            "grid_auto_rows": null,
            "grid_column": null,
            "grid_gap": null,
            "grid_row": null,
            "grid_template_areas": null,
            "grid_template_columns": null,
            "grid_template_rows": null,
            "height": null,
            "justify_content": null,
            "justify_items": null,
            "left": null,
            "margin": null,
            "max_height": null,
            "max_width": null,
            "min_height": null,
            "min_width": null,
            "object_fit": null,
            "object_position": null,
            "order": null,
            "overflow": null,
            "overflow_x": null,
            "overflow_y": null,
            "padding": null,
            "right": null,
            "top": null,
            "visibility": null,
            "width": null
          }
        },
        "bbcadfae97c64a1c9dd4aafac7222448": {
          "model_module": "@jupyter-widgets/base",
          "model_name": "LayoutModel",
          "model_module_version": "1.2.0",
          "state": {
            "_model_module": "@jupyter-widgets/base",
            "_model_module_version": "1.2.0",
            "_model_name": "LayoutModel",
            "_view_count": null,
            "_view_module": "@jupyter-widgets/base",
            "_view_module_version": "1.2.0",
            "_view_name": "LayoutView",
            "align_content": null,
            "align_items": null,
            "align_self": null,
            "border": null,
            "bottom": null,
            "display": null,
            "flex": null,
            "flex_flow": null,
            "grid_area": null,
            "grid_auto_columns": null,
            "grid_auto_flow": null,
            "grid_auto_rows": null,
            "grid_column": null,
            "grid_gap": null,
            "grid_row": null,
            "grid_template_areas": null,
            "grid_template_columns": null,
            "grid_template_rows": null,
            "height": null,
            "justify_content": null,
            "justify_items": null,
            "left": null,
            "margin": null,
            "max_height": null,
            "max_width": null,
            "min_height": null,
            "min_width": null,
            "object_fit": null,
            "object_position": null,
            "order": null,
            "overflow": null,
            "overflow_x": null,
            "overflow_y": null,
            "padding": null,
            "right": null,
            "top": null,
            "visibility": null,
            "width": null
          }
        },
        "f4e6dea9482248cb86f49ab42ed9e18f": {
          "model_module": "@jupyter-widgets/controls",
          "model_name": "DescriptionStyleModel",
          "model_module_version": "1.5.0",
          "state": {
            "_model_module": "@jupyter-widgets/controls",
            "_model_module_version": "1.5.0",
            "_model_name": "DescriptionStyleModel",
            "_view_count": null,
            "_view_module": "@jupyter-widgets/base",
            "_view_module_version": "1.2.0",
            "_view_name": "StyleView",
            "description_width": ""
          }
        },
        "c82724661a13416b94ba23a15e384b07": {
          "model_module": "@jupyter-widgets/base",
          "model_name": "LayoutModel",
          "model_module_version": "1.2.0",
          "state": {
            "_model_module": "@jupyter-widgets/base",
            "_model_module_version": "1.2.0",
            "_model_name": "LayoutModel",
            "_view_count": null,
            "_view_module": "@jupyter-widgets/base",
            "_view_module_version": "1.2.0",
            "_view_name": "LayoutView",
            "align_content": null,
            "align_items": null,
            "align_self": null,
            "border": null,
            "bottom": null,
            "display": null,
            "flex": null,
            "flex_flow": null,
            "grid_area": null,
            "grid_auto_columns": null,
            "grid_auto_flow": null,
            "grid_auto_rows": null,
            "grid_column": null,
            "grid_gap": null,
            "grid_row": null,
            "grid_template_areas": null,
            "grid_template_columns": null,
            "grid_template_rows": null,
            "height": null,
            "justify_content": null,
            "justify_items": null,
            "left": null,
            "margin": null,
            "max_height": null,
            "max_width": null,
            "min_height": null,
            "min_width": null,
            "object_fit": null,
            "object_position": null,
            "order": null,
            "overflow": null,
            "overflow_x": null,
            "overflow_y": null,
            "padding": null,
            "right": null,
            "top": null,
            "visibility": null,
            "width": null
          }
        },
        "a350319c394a4edfb320817cd9540568": {
          "model_module": "@jupyter-widgets/controls",
          "model_name": "ProgressStyleModel",
          "model_module_version": "1.5.0",
          "state": {
            "_model_module": "@jupyter-widgets/controls",
            "_model_module_version": "1.5.0",
            "_model_name": "ProgressStyleModel",
            "_view_count": null,
            "_view_module": "@jupyter-widgets/base",
            "_view_module_version": "1.2.0",
            "_view_name": "StyleView",
            "bar_color": null,
            "description_width": ""
          }
        },
        "a0b010ff6d5c44f380a49f94b840b077": {
          "model_module": "@jupyter-widgets/base",
          "model_name": "LayoutModel",
          "model_module_version": "1.2.0",
          "state": {
            "_model_module": "@jupyter-widgets/base",
            "_model_module_version": "1.2.0",
            "_model_name": "LayoutModel",
            "_view_count": null,
            "_view_module": "@jupyter-widgets/base",
            "_view_module_version": "1.2.0",
            "_view_name": "LayoutView",
            "align_content": null,
            "align_items": null,
            "align_self": null,
            "border": null,
            "bottom": null,
            "display": null,
            "flex": null,
            "flex_flow": null,
            "grid_area": null,
            "grid_auto_columns": null,
            "grid_auto_flow": null,
            "grid_auto_rows": null,
            "grid_column": null,
            "grid_gap": null,
            "grid_row": null,
            "grid_template_areas": null,
            "grid_template_columns": null,
            "grid_template_rows": null,
            "height": null,
            "justify_content": null,
            "justify_items": null,
            "left": null,
            "margin": null,
            "max_height": null,
            "max_width": null,
            "min_height": null,
            "min_width": null,
            "object_fit": null,
            "object_position": null,
            "order": null,
            "overflow": null,
            "overflow_x": null,
            "overflow_y": null,
            "padding": null,
            "right": null,
            "top": null,
            "visibility": null,
            "width": null
          }
        },
        "600629a261d44082acf9c5c11c36066d": {
          "model_module": "@jupyter-widgets/controls",
          "model_name": "DescriptionStyleModel",
          "model_module_version": "1.5.0",
          "state": {
            "_model_module": "@jupyter-widgets/controls",
            "_model_module_version": "1.5.0",
            "_model_name": "DescriptionStyleModel",
            "_view_count": null,
            "_view_module": "@jupyter-widgets/base",
            "_view_module_version": "1.2.0",
            "_view_name": "StyleView",
            "description_width": ""
          }
        },
        "165ef0b867cb49aeb75fe280fd38cfa8": {
          "model_module": "@jupyter-widgets/controls",
          "model_name": "HBoxModel",
          "model_module_version": "1.5.0",
          "state": {
            "_dom_classes": [],
            "_model_module": "@jupyter-widgets/controls",
            "_model_module_version": "1.5.0",
            "_model_name": "HBoxModel",
            "_view_count": null,
            "_view_module": "@jupyter-widgets/controls",
            "_view_module_version": "1.5.0",
            "_view_name": "HBoxView",
            "box_style": "",
            "children": [
              "IPY_MODEL_2f71488d025a4b659b562d01c155de69",
              "IPY_MODEL_f15e01203a12445eb30eb5d0ea2db4a9",
              "IPY_MODEL_82b4fb0ed24d413bb4adc2acf686d5e3"
            ],
            "layout": "IPY_MODEL_bd2148bb4f574d56a4f3f769ab59185b"
          }
        },
        "2f71488d025a4b659b562d01c155de69": {
          "model_module": "@jupyter-widgets/controls",
          "model_name": "HTMLModel",
          "model_module_version": "1.5.0",
          "state": {
            "_dom_classes": [],
            "_model_module": "@jupyter-widgets/controls",
            "_model_module_version": "1.5.0",
            "_model_name": "HTMLModel",
            "_view_count": null,
            "_view_module": "@jupyter-widgets/controls",
            "_view_module_version": "1.5.0",
            "_view_name": "HTMLView",
            "description": "",
            "description_tooltip": null,
            "layout": "IPY_MODEL_64bfee412ac74224a4f3e513fca28692",
            "placeholder": "​",
            "style": "IPY_MODEL_9f0cbfb617c3416da8cbd93518ad2211",
            "value": "Downloading: 100%"
          }
        },
        "f15e01203a12445eb30eb5d0ea2db4a9": {
          "model_module": "@jupyter-widgets/controls",
          "model_name": "FloatProgressModel",
          "model_module_version": "1.5.0",
          "state": {
            "_dom_classes": [],
            "_model_module": "@jupyter-widgets/controls",
            "_model_module_version": "1.5.0",
            "_model_name": "FloatProgressModel",
            "_view_count": null,
            "_view_module": "@jupyter-widgets/controls",
            "_view_module_version": "1.5.0",
            "_view_name": "ProgressView",
            "bar_style": "success",
            "description": "",
            "description_tooltip": null,
            "layout": "IPY_MODEL_b1dad5ca084a4052884dd9e4034015d8",
            "max": 570,
            "min": 0,
            "orientation": "horizontal",
            "style": "IPY_MODEL_ff0ee49b4a064b26a2831bff2200ac1a",
            "value": 570
          }
        },
        "82b4fb0ed24d413bb4adc2acf686d5e3": {
          "model_module": "@jupyter-widgets/controls",
          "model_name": "HTMLModel",
          "model_module_version": "1.5.0",
          "state": {
            "_dom_classes": [],
            "_model_module": "@jupyter-widgets/controls",
            "_model_module_version": "1.5.0",
            "_model_name": "HTMLModel",
            "_view_count": null,
            "_view_module": "@jupyter-widgets/controls",
            "_view_module_version": "1.5.0",
            "_view_name": "HTMLView",
            "description": "",
            "description_tooltip": null,
            "layout": "IPY_MODEL_eed5367a5e074410ba413678ffa89e86",
            "placeholder": "​",
            "style": "IPY_MODEL_3761d577e5ce4078a38ed9118cd77773",
            "value": " 570/570 [00:00&lt;00:00, 13.7kB/s]"
          }
        },
        "bd2148bb4f574d56a4f3f769ab59185b": {
          "model_module": "@jupyter-widgets/base",
          "model_name": "LayoutModel",
          "model_module_version": "1.2.0",
          "state": {
            "_model_module": "@jupyter-widgets/base",
            "_model_module_version": "1.2.0",
            "_model_name": "LayoutModel",
            "_view_count": null,
            "_view_module": "@jupyter-widgets/base",
            "_view_module_version": "1.2.0",
            "_view_name": "LayoutView",
            "align_content": null,
            "align_items": null,
            "align_self": null,
            "border": null,
            "bottom": null,
            "display": null,
            "flex": null,
            "flex_flow": null,
            "grid_area": null,
            "grid_auto_columns": null,
            "grid_auto_flow": null,
            "grid_auto_rows": null,
            "grid_column": null,
            "grid_gap": null,
            "grid_row": null,
            "grid_template_areas": null,
            "grid_template_columns": null,
            "grid_template_rows": null,
            "height": null,
            "justify_content": null,
            "justify_items": null,
            "left": null,
            "margin": null,
            "max_height": null,
            "max_width": null,
            "min_height": null,
            "min_width": null,
            "object_fit": null,
            "object_position": null,
            "order": null,
            "overflow": null,
            "overflow_x": null,
            "overflow_y": null,
            "padding": null,
            "right": null,
            "top": null,
            "visibility": null,
            "width": null
          }
        },
        "64bfee412ac74224a4f3e513fca28692": {
          "model_module": "@jupyter-widgets/base",
          "model_name": "LayoutModel",
          "model_module_version": "1.2.0",
          "state": {
            "_model_module": "@jupyter-widgets/base",
            "_model_module_version": "1.2.0",
            "_model_name": "LayoutModel",
            "_view_count": null,
            "_view_module": "@jupyter-widgets/base",
            "_view_module_version": "1.2.0",
            "_view_name": "LayoutView",
            "align_content": null,
            "align_items": null,
            "align_self": null,
            "border": null,
            "bottom": null,
            "display": null,
            "flex": null,
            "flex_flow": null,
            "grid_area": null,
            "grid_auto_columns": null,
            "grid_auto_flow": null,
            "grid_auto_rows": null,
            "grid_column": null,
            "grid_gap": null,
            "grid_row": null,
            "grid_template_areas": null,
            "grid_template_columns": null,
            "grid_template_rows": null,
            "height": null,
            "justify_content": null,
            "justify_items": null,
            "left": null,
            "margin": null,
            "max_height": null,
            "max_width": null,
            "min_height": null,
            "min_width": null,
            "object_fit": null,
            "object_position": null,
            "order": null,
            "overflow": null,
            "overflow_x": null,
            "overflow_y": null,
            "padding": null,
            "right": null,
            "top": null,
            "visibility": null,
            "width": null
          }
        },
        "9f0cbfb617c3416da8cbd93518ad2211": {
          "model_module": "@jupyter-widgets/controls",
          "model_name": "DescriptionStyleModel",
          "model_module_version": "1.5.0",
          "state": {
            "_model_module": "@jupyter-widgets/controls",
            "_model_module_version": "1.5.0",
            "_model_name": "DescriptionStyleModel",
            "_view_count": null,
            "_view_module": "@jupyter-widgets/base",
            "_view_module_version": "1.2.0",
            "_view_name": "StyleView",
            "description_width": ""
          }
        },
        "b1dad5ca084a4052884dd9e4034015d8": {
          "model_module": "@jupyter-widgets/base",
          "model_name": "LayoutModel",
          "model_module_version": "1.2.0",
          "state": {
            "_model_module": "@jupyter-widgets/base",
            "_model_module_version": "1.2.0",
            "_model_name": "LayoutModel",
            "_view_count": null,
            "_view_module": "@jupyter-widgets/base",
            "_view_module_version": "1.2.0",
            "_view_name": "LayoutView",
            "align_content": null,
            "align_items": null,
            "align_self": null,
            "border": null,
            "bottom": null,
            "display": null,
            "flex": null,
            "flex_flow": null,
            "grid_area": null,
            "grid_auto_columns": null,
            "grid_auto_flow": null,
            "grid_auto_rows": null,
            "grid_column": null,
            "grid_gap": null,
            "grid_row": null,
            "grid_template_areas": null,
            "grid_template_columns": null,
            "grid_template_rows": null,
            "height": null,
            "justify_content": null,
            "justify_items": null,
            "left": null,
            "margin": null,
            "max_height": null,
            "max_width": null,
            "min_height": null,
            "min_width": null,
            "object_fit": null,
            "object_position": null,
            "order": null,
            "overflow": null,
            "overflow_x": null,
            "overflow_y": null,
            "padding": null,
            "right": null,
            "top": null,
            "visibility": null,
            "width": null
          }
        },
        "ff0ee49b4a064b26a2831bff2200ac1a": {
          "model_module": "@jupyter-widgets/controls",
          "model_name": "ProgressStyleModel",
          "model_module_version": "1.5.0",
          "state": {
            "_model_module": "@jupyter-widgets/controls",
            "_model_module_version": "1.5.0",
            "_model_name": "ProgressStyleModel",
            "_view_count": null,
            "_view_module": "@jupyter-widgets/base",
            "_view_module_version": "1.2.0",
            "_view_name": "StyleView",
            "bar_color": null,
            "description_width": ""
          }
        },
        "eed5367a5e074410ba413678ffa89e86": {
          "model_module": "@jupyter-widgets/base",
          "model_name": "LayoutModel",
          "model_module_version": "1.2.0",
          "state": {
            "_model_module": "@jupyter-widgets/base",
            "_model_module_version": "1.2.0",
            "_model_name": "LayoutModel",
            "_view_count": null,
            "_view_module": "@jupyter-widgets/base",
            "_view_module_version": "1.2.0",
            "_view_name": "LayoutView",
            "align_content": null,
            "align_items": null,
            "align_self": null,
            "border": null,
            "bottom": null,
            "display": null,
            "flex": null,
            "flex_flow": null,
            "grid_area": null,
            "grid_auto_columns": null,
            "grid_auto_flow": null,
            "grid_auto_rows": null,
            "grid_column": null,
            "grid_gap": null,
            "grid_row": null,
            "grid_template_areas": null,
            "grid_template_columns": null,
            "grid_template_rows": null,
            "height": null,
            "justify_content": null,
            "justify_items": null,
            "left": null,
            "margin": null,
            "max_height": null,
            "max_width": null,
            "min_height": null,
            "min_width": null,
            "object_fit": null,
            "object_position": null,
            "order": null,
            "overflow": null,
            "overflow_x": null,
            "overflow_y": null,
            "padding": null,
            "right": null,
            "top": null,
            "visibility": null,
            "width": null
          }
        },
        "3761d577e5ce4078a38ed9118cd77773": {
          "model_module": "@jupyter-widgets/controls",
          "model_name": "DescriptionStyleModel",
          "model_module_version": "1.5.0",
          "state": {
            "_model_module": "@jupyter-widgets/controls",
            "_model_module_version": "1.5.0",
            "_model_name": "DescriptionStyleModel",
            "_view_count": null,
            "_view_module": "@jupyter-widgets/base",
            "_view_module_version": "1.2.0",
            "_view_name": "StyleView",
            "description_width": ""
          }
        },
        "882afb89cf784802ab8dee9aac9a9b4e": {
          "model_module": "@jupyter-widgets/controls",
          "model_name": "HBoxModel",
          "model_module_version": "1.5.0",
          "state": {
            "_dom_classes": [],
            "_model_module": "@jupyter-widgets/controls",
            "_model_module_version": "1.5.0",
            "_model_name": "HBoxModel",
            "_view_count": null,
            "_view_module": "@jupyter-widgets/controls",
            "_view_module_version": "1.5.0",
            "_view_name": "HBoxView",
            "box_style": "",
            "children": [
              "IPY_MODEL_2677a4111027405cb2e2d68457d23071",
              "IPY_MODEL_b9d110d8ee3e477fb6786cc15821e4d3",
              "IPY_MODEL_0201d46101184a9785d20dc838a0f64a"
            ],
            "layout": "IPY_MODEL_973d434cce78439f87897763e6aeb2d2"
          }
        },
        "2677a4111027405cb2e2d68457d23071": {
          "model_module": "@jupyter-widgets/controls",
          "model_name": "HTMLModel",
          "model_module_version": "1.5.0",
          "state": {
            "_dom_classes": [],
            "_model_module": "@jupyter-widgets/controls",
            "_model_module_version": "1.5.0",
            "_model_name": "HTMLModel",
            "_view_count": null,
            "_view_module": "@jupyter-widgets/controls",
            "_view_module_version": "1.5.0",
            "_view_name": "HTMLView",
            "description": "",
            "description_tooltip": null,
            "layout": "IPY_MODEL_8d3f379a2fe541bd98e2771b35417a51",
            "placeholder": "​",
            "style": "IPY_MODEL_2e531070482647579f2885f4e21267c6",
            "value": "Downloading: 100%"
          }
        },
        "b9d110d8ee3e477fb6786cc15821e4d3": {
          "model_module": "@jupyter-widgets/controls",
          "model_name": "FloatProgressModel",
          "model_module_version": "1.5.0",
          "state": {
            "_dom_classes": [],
            "_model_module": "@jupyter-widgets/controls",
            "_model_module_version": "1.5.0",
            "_model_name": "FloatProgressModel",
            "_view_count": null,
            "_view_module": "@jupyter-widgets/controls",
            "_view_module_version": "1.5.0",
            "_view_name": "ProgressView",
            "bar_style": "success",
            "description": "",
            "description_tooltip": null,
            "layout": "IPY_MODEL_dbfc63a80a56450ab5fb398ca854b2e2",
            "max": 526681800,
            "min": 0,
            "orientation": "horizontal",
            "style": "IPY_MODEL_bf4079e5ea7c43b3984c74d3d0b2d199",
            "value": 526681800
          }
        },
        "0201d46101184a9785d20dc838a0f64a": {
          "model_module": "@jupyter-widgets/controls",
          "model_name": "HTMLModel",
          "model_module_version": "1.5.0",
          "state": {
            "_dom_classes": [],
            "_model_module": "@jupyter-widgets/controls",
            "_model_module_version": "1.5.0",
            "_model_name": "HTMLModel",
            "_view_count": null,
            "_view_module": "@jupyter-widgets/controls",
            "_view_module_version": "1.5.0",
            "_view_name": "HTMLView",
            "description": "",
            "description_tooltip": null,
            "layout": "IPY_MODEL_98e52498cd564177ab046889726487f7",
            "placeholder": "​",
            "style": "IPY_MODEL_9e550e8ae1054aefbb4d4ea96f4eb5c4",
            "value": " 502M/502M [00:09&lt;00:00, 52.1MB/s]"
          }
        },
        "973d434cce78439f87897763e6aeb2d2": {
          "model_module": "@jupyter-widgets/base",
          "model_name": "LayoutModel",
          "model_module_version": "1.2.0",
          "state": {
            "_model_module": "@jupyter-widgets/base",
            "_model_module_version": "1.2.0",
            "_model_name": "LayoutModel",
            "_view_count": null,
            "_view_module": "@jupyter-widgets/base",
            "_view_module_version": "1.2.0",
            "_view_name": "LayoutView",
            "align_content": null,
            "align_items": null,
            "align_self": null,
            "border": null,
            "bottom": null,
            "display": null,
            "flex": null,
            "flex_flow": null,
            "grid_area": null,
            "grid_auto_columns": null,
            "grid_auto_flow": null,
            "grid_auto_rows": null,
            "grid_column": null,
            "grid_gap": null,
            "grid_row": null,
            "grid_template_areas": null,
            "grid_template_columns": null,
            "grid_template_rows": null,
            "height": null,
            "justify_content": null,
            "justify_items": null,
            "left": null,
            "margin": null,
            "max_height": null,
            "max_width": null,
            "min_height": null,
            "min_width": null,
            "object_fit": null,
            "object_position": null,
            "order": null,
            "overflow": null,
            "overflow_x": null,
            "overflow_y": null,
            "padding": null,
            "right": null,
            "top": null,
            "visibility": null,
            "width": null
          }
        },
        "8d3f379a2fe541bd98e2771b35417a51": {
          "model_module": "@jupyter-widgets/base",
          "model_name": "LayoutModel",
          "model_module_version": "1.2.0",
          "state": {
            "_model_module": "@jupyter-widgets/base",
            "_model_module_version": "1.2.0",
            "_model_name": "LayoutModel",
            "_view_count": null,
            "_view_module": "@jupyter-widgets/base",
            "_view_module_version": "1.2.0",
            "_view_name": "LayoutView",
            "align_content": null,
            "align_items": null,
            "align_self": null,
            "border": null,
            "bottom": null,
            "display": null,
            "flex": null,
            "flex_flow": null,
            "grid_area": null,
            "grid_auto_columns": null,
            "grid_auto_flow": null,
            "grid_auto_rows": null,
            "grid_column": null,
            "grid_gap": null,
            "grid_row": null,
            "grid_template_areas": null,
            "grid_template_columns": null,
            "grid_template_rows": null,
            "height": null,
            "justify_content": null,
            "justify_items": null,
            "left": null,
            "margin": null,
            "max_height": null,
            "max_width": null,
            "min_height": null,
            "min_width": null,
            "object_fit": null,
            "object_position": null,
            "order": null,
            "overflow": null,
            "overflow_x": null,
            "overflow_y": null,
            "padding": null,
            "right": null,
            "top": null,
            "visibility": null,
            "width": null
          }
        },
        "2e531070482647579f2885f4e21267c6": {
          "model_module": "@jupyter-widgets/controls",
          "model_name": "DescriptionStyleModel",
          "model_module_version": "1.5.0",
          "state": {
            "_model_module": "@jupyter-widgets/controls",
            "_model_module_version": "1.5.0",
            "_model_name": "DescriptionStyleModel",
            "_view_count": null,
            "_view_module": "@jupyter-widgets/base",
            "_view_module_version": "1.2.0",
            "_view_name": "StyleView",
            "description_width": ""
          }
        },
        "dbfc63a80a56450ab5fb398ca854b2e2": {
          "model_module": "@jupyter-widgets/base",
          "model_name": "LayoutModel",
          "model_module_version": "1.2.0",
          "state": {
            "_model_module": "@jupyter-widgets/base",
            "_model_module_version": "1.2.0",
            "_model_name": "LayoutModel",
            "_view_count": null,
            "_view_module": "@jupyter-widgets/base",
            "_view_module_version": "1.2.0",
            "_view_name": "LayoutView",
            "align_content": null,
            "align_items": null,
            "align_self": null,
            "border": null,
            "bottom": null,
            "display": null,
            "flex": null,
            "flex_flow": null,
            "grid_area": null,
            "grid_auto_columns": null,
            "grid_auto_flow": null,
            "grid_auto_rows": null,
            "grid_column": null,
            "grid_gap": null,
            "grid_row": null,
            "grid_template_areas": null,
            "grid_template_columns": null,
            "grid_template_rows": null,
            "height": null,
            "justify_content": null,
            "justify_items": null,
            "left": null,
            "margin": null,
            "max_height": null,
            "max_width": null,
            "min_height": null,
            "min_width": null,
            "object_fit": null,
            "object_position": null,
            "order": null,
            "overflow": null,
            "overflow_x": null,
            "overflow_y": null,
            "padding": null,
            "right": null,
            "top": null,
            "visibility": null,
            "width": null
          }
        },
        "bf4079e5ea7c43b3984c74d3d0b2d199": {
          "model_module": "@jupyter-widgets/controls",
          "model_name": "ProgressStyleModel",
          "model_module_version": "1.5.0",
          "state": {
            "_model_module": "@jupyter-widgets/controls",
            "_model_module_version": "1.5.0",
            "_model_name": "ProgressStyleModel",
            "_view_count": null,
            "_view_module": "@jupyter-widgets/base",
            "_view_module_version": "1.2.0",
            "_view_name": "StyleView",
            "bar_color": null,
            "description_width": ""
          }
        },
        "98e52498cd564177ab046889726487f7": {
          "model_module": "@jupyter-widgets/base",
          "model_name": "LayoutModel",
          "model_module_version": "1.2.0",
          "state": {
            "_model_module": "@jupyter-widgets/base",
            "_model_module_version": "1.2.0",
            "_model_name": "LayoutModel",
            "_view_count": null,
            "_view_module": "@jupyter-widgets/base",
            "_view_module_version": "1.2.0",
            "_view_name": "LayoutView",
            "align_content": null,
            "align_items": null,
            "align_self": null,
            "border": null,
            "bottom": null,
            "display": null,
            "flex": null,
            "flex_flow": null,
            "grid_area": null,
            "grid_auto_columns": null,
            "grid_auto_flow": null,
            "grid_auto_rows": null,
            "grid_column": null,
            "grid_gap": null,
            "grid_row": null,
            "grid_template_areas": null,
            "grid_template_columns": null,
            "grid_template_rows": null,
            "height": null,
            "justify_content": null,
            "justify_items": null,
            "left": null,
            "margin": null,
            "max_height": null,
            "max_width": null,
            "min_height": null,
            "min_width": null,
            "object_fit": null,
            "object_position": null,
            "order": null,
            "overflow": null,
            "overflow_x": null,
            "overflow_y": null,
            "padding": null,
            "right": null,
            "top": null,
            "visibility": null,
            "width": null
          }
        },
        "9e550e8ae1054aefbb4d4ea96f4eb5c4": {
          "model_module": "@jupyter-widgets/controls",
          "model_name": "DescriptionStyleModel",
          "model_module_version": "1.5.0",
          "state": {
            "_model_module": "@jupyter-widgets/controls",
            "_model_module_version": "1.5.0",
            "_model_name": "DescriptionStyleModel",
            "_view_count": null,
            "_view_module": "@jupyter-widgets/base",
            "_view_module_version": "1.2.0",
            "_view_name": "StyleView",
            "description_width": ""
          }
        }
      }
    }
  },
  "nbformat": 4,
  "nbformat_minor": 0
}